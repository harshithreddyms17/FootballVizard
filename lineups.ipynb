{
 "cells": [
  {
   "cell_type": "code",
   "execution_count": 2,
   "id": "65b09ecd",
   "metadata": {},
   "outputs": [],
   "source": [
    "from statsbombpy import sb\n",
    "import pandas as pd\n",
    "import dataframe_image as dfi"
   ]
  },
  {
   "cell_type": "code",
   "execution_count": 3,
   "id": "4d492d6f",
   "metadata": {},
   "outputs": [],
   "source": [
    "def lineups(a):\n",
    "    t = sb.lineups(a)\n",
    "    z = sb.events(a)\n",
    "    x = z.team.unique()\n",
    "    t_1 = t[x[0]]\n",
    "    t_2 = t[x[1]]\n",
    "    t_1 = t_1[['player_name','jersey_number']]\n",
    "    t_2 = t_2[['player_name','jersey_number']]\n",
    "    t_1 = t_1.set_index('jersey_number')\n",
    "    t_2 = t_2.set_index('jersey_number')\n",
    "    dfi.export(t_1,'t_1.png')\n",
    "    dfi.export(t_2,'t_2.png')\n"
   ]
  },
  {
   "cell_type": "code",
   "execution_count": 5,
   "id": "c186ed78",
   "metadata": {},
   "outputs": [
    {
     "name": "stderr",
     "output_type": "stream",
     "text": [
      "/Users/atrix/miniforge3/lib/python3.10/site-packages/statsbombpy/api_client.py:20: NoAuthWarning: credentials were not supplied. open data access only\n",
      "  warnings.warn(\"credentials were not supplied. open data access only\", NoAuthWarning)\n",
      "/Users/atrix/miniforge3/lib/python3.10/site-packages/statsbombpy/api_client.py:20: NoAuthWarning: credentials were not supplied. open data access only\n",
      "  warnings.warn(\"credentials were not supplied. open data access only\", NoAuthWarning)\n",
      "objc[7208]: Class WebSwapCGLLayer is implemented in both /System/Library/Frameworks/WebKit.framework/Versions/A/Frameworks/WebCore.framework/Versions/A/Frameworks/libANGLE-shared.dylib (0x23ebf1b50) and /Applications/Google Chrome.app/Contents/Frameworks/Google Chrome Framework.framework/Versions/105.0.5195.102/Libraries/libGLESv2.dylib (0x107cd60e8). One of the two will be used. Which one is undefined.\n",
      "[0908/011136.753237:INFO:headless_shell.cc(660)] Written to file /var/folders/4v/l4ntwqzn42l2mk9btrhkwcqm0000gn/T/tmpf34_rwvs/temp.png.\n",
      "objc[7220]: Class WebSwapCGLLayer is implemented in both /System/Library/Frameworks/WebKit.framework/Versions/A/Frameworks/WebCore.framework/Versions/A/Frameworks/libANGLE-shared.dylib (0x23ebf1b50) and /Applications/Google Chrome.app/Contents/Frameworks/Google Chrome Framework.framework/Versions/105.0.5195.102/Libraries/libGLESv2.dylib (0x1080a60e8). One of the two will be used. Which one is undefined.\n",
      "[0908/011137.625075:INFO:headless_shell.cc(660)] Written to file /var/folders/4v/l4ntwqzn42l2mk9btrhkwcqm0000gn/T/tmpghw6ijtp/temp.png.\n"
     ]
    }
   ],
   "source": [
    "lineups(3788773)"
   ]
  },
  {
   "cell_type": "code",
   "execution_count": null,
   "id": "a4425213",
   "metadata": {},
   "outputs": [],
   "source": []
  }
 ],
 "metadata": {
  "kernelspec": {
   "display_name": "Python 3 (ipykernel)",
   "language": "python",
   "name": "python3"
  },
  "language_info": {
   "codemirror_mode": {
    "name": "ipython",
    "version": 3
   },
   "file_extension": ".py",
   "mimetype": "text/x-python",
   "name": "python",
   "nbconvert_exporter": "python",
   "pygments_lexer": "ipython3",
   "version": "3.10.6"
  }
 },
 "nbformat": 4,
 "nbformat_minor": 5
}
